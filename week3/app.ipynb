{
 "cells": [
  {
   "cell_type": "code",
   "execution_count": 2,
   "metadata": {},
   "outputs": [
    {
     "name": "stdout",
     "output_type": "stream",
     "text": [
      "None\n"
     ]
    }
   ],
   "source": [
    "# app.py\n",
    "import cv2\n",
    "import numpy as np\n",
    "import plotly.graph_objs as go\n",
    "import io\n",
    "\n",
    "\n",
    "import dash\n",
    "from dash import dcc, html\n",
    "from dash.dependencies import Input, Output\n",
    "from layout import layout\n",
    "import draw  # import my module\n",
    "\n",
    "app = dash.Dash(__name__)\n",
    "\n",
    "app.layout = eval(layout)\n",
    "\n",
    "#todo1: 读入图像数据\n",
    "picture=cv2.imread('week3\\\\assets\\\\nuaa_sar.jpg',cv2.IMREAD_GRAYSCALE)\n",
    "\n",
    "print(picture)"
   ]
  },
  {
   "cell_type": "code",
   "execution_count": null,
   "metadata": {},
   "outputs": [],
   "source": [
    "\n",
    "#todo1: 读入图像数据\n",
    "#todo2: 转换为SAR图像\n",
    "@app.callback(\n",
    "    Output('graph', 'figure'),\n",
    "    [Input('dm-slider', 'value'),\n",
    "     Input('dn-slider', 'value'),\n",
    "     Input('ic-slider', 'value'),\n",
    "     Input('jc-slider', 'value'),\n",
    "     Input('k-slider', 'value'),\n",
    "     Input('sigma-slider', 'value')]\n",
    ")\n",
    "def update_figure(dm, dn, ic, jc, k, sigma):\n",
    "#todo1：图像与碎片融合\n",
    "    fig = draw.draw_many_splinter(dm, dn, ic, jc, k, sigma)\n",
    "    # Convert the figure to an image\n",
    "    #fig.write_image('temp.png')\n",
    "\n",
    "    return fig\n",
    "\n",
    "#opencv read image\n",
    "\n",
    "\n",
    "if __name__ == '__main__':\n",
    "    app.run_server(debug=True,host=\"0.0.0.0\",port=5000)\n",
    "\n"
   ]
  }
 ],
 "metadata": {
  "kernelspec": {
   "display_name": "Python 3",
   "language": "python",
   "name": "python3"
  },
  "language_info": {
   "codemirror_mode": {
    "name": "ipython",
    "version": 3
   },
   "file_extension": ".py",
   "mimetype": "text/x-python",
   "name": "python",
   "nbconvert_exporter": "python",
   "pygments_lexer": "ipython3",
   "version": "3.12.2"
  }
 },
 "nbformat": 4,
 "nbformat_minor": 2
}
